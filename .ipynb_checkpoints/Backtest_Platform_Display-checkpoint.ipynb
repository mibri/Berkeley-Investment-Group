{
 "cells": [
  {
   "cell_type": "code",
   "execution_count": 5,
   "metadata": {
    "collapsed": true
   },
   "outputs": [],
   "source": [
    "from __future__ import print_function\n",
    "import time\n",
    "import intrinio_sdk\n",
    "from intrinio_sdk.rest import ApiException\n",
    "from pprint import pprint\n",
    "from datetime import date\n",
    "from datetime import timedelta\n",
    "import io\n",
    "from collections import Counter\n",
    "import numpy as np\n",
    "from numpy import genfromtxt\n",
    "import matplotlib.pyplot as plt\n",
    "import pandas as pd\n",
    "\n",
    "import requests, lxml\n",
    "from lxml import html"
   ]
  },
  {
   "cell_type": "code",
   "execution_count": 6,
   "metadata": {},
   "outputs": [],
   "source": [
    "data = pd.read_csv(\"https://query1.finance.yahoo.com/v7/finance/download/AAPL?period1=1546502400&period2=1587279600&interval=1d&events=history\")"
   ]
  },
  {
   "cell_type": "code",
   "execution_count": 57,
   "metadata": {},
   "outputs": [],
   "source": [
    "class Stock_Yahoo:\n",
    "    def __init__(self, ticker, start_date=date.today(), end_date=date.today(), frequency='daily', page_size=100):        \n",
    "        self.ticker = ticker\n",
    "        self.start_date = start_date\n",
    "        self.end_date = end_date\n",
    "        self.frequency = frequency\n",
    "        self.data = self.get_clean_yahoo(ticker, start_date, end_date)\n",
    "        self.date_range_iter = self.daterange(start_date, end_date)\n",
    "        self.prices = self.data[['Date', 'Adj Close']].set_index('Date').to_dict()\n",
    "        print(self.prices)\n",
    "        print(type(list(self.prices.keys())[0]))\n",
    "#         self.start_price = self.prices[self.]\n",
    "#         self.end_price = self.prices[-1]\n",
    "        \n",
    "    def get_clean_yahoo(self, ticker, start_date, end_date):\n",
    "        start_date = int(time.mktime(start_date.timetuple()))\n",
    "        end_date = int(time.mktime(end_date.timetuple()))\n",
    "        yahoo_url = \"https://query1.finance.yahoo.com/v7/finance/download/\"+ ticker + \"?period1=\" + str(start_date) + \"&period2=\" + str(end_date) + \"&interval=1d&events=history\"\n",
    "        data = pd.read_csv(yahoo_url)\n",
    "        # sort in ascending date\n",
    "        data = data.reindex(index=data.index[::-1])\n",
    "        return data\n",
    "    \n",
    "    def display_close_price(self):\n",
    "        plt.figure(figsize=(10,7))\n",
    "        plt.title(self.ticker + \" Stock Price\")\n",
    "        plt.plot(self.data['Date'].astype('datetime64'), self.prices)\n",
    "        plt.xlabel(\"Date\")\n",
    "        plt.ylabel(\"Price\")\n",
    "        plt.show()\n",
    "        \n",
    "    def get_performance(self, start=None, end=None):\n",
    "        if (start == None):\n",
    "            start = self.start_date\n",
    "        if (end == None):\n",
    "            end = self.end_date\n",
    "        \n",
    "        max_ind = len(self.prices)\n",
    "        curr_ind = 0\n",
    "        gains = []\n",
    "\n",
    "        for date in self.daterange(start, end):\n",
    "            if ((date - self.start_date).total_seconds() < 0):\n",
    "                gains.append(0)\n",
    "            elif ((self.end_date - date).total_seconds() < 0):\n",
    "                gains.append(0)\n",
    "            elif (curr_ind >= max_ind):\n",
    "                gains.append(0)\n",
    "            else:\n",
    "                gains.append(self.prices[curr_ind]['adj_close'] - self.start_price)\n",
    "                curr_ind += 1\n",
    "        return np.array(gains)\n",
    "    \n",
    "    def daterange(self, start_date, end_date):\n",
    "        delta = timedelta(days=1)\n",
    "        while start_date <= end_date:\n",
    "            if (start_date.weekday() >= 5):\n",
    "                start_date += delta\n",
    "                continue\n",
    "            yield start_date\n",
    "            start_date += delta      \n",
    "            \n",
    "    def get_df(self):\n",
    "        return self.data\n",
    "    \n",
    "    def display_df(self, head=None):\n",
    "        if head:\n",
    "            display(self.data.head(head))\n",
    "        else:\n",
    "            display(self.data)\n",
    "        "
   ]
  },
  {
   "cell_type": "code",
   "execution_count": 58,
   "metadata": {
    "collapsed": true
   },
   "outputs": [],
   "source": [
    "class Portfolio:\n",
    "    def __init__(self, capital=1000):\n",
    "        self.capital = float(capital)\n",
    "        self.holdings = {}\n",
    "        \n",
    "    def buy(self, ticker='', start=date.today(), end=date.today()):\n",
    "        newStock = Stock_Yahoo(ticker, start_date=start, end_date=end)\n",
    "        self.holdings[newStock] = (start, end)\n",
    "    \n",
    "    def display_performance(self):\n",
    "        min_date = min(self.holdings.values(), key = lambda x: x[0])[0]\n",
    "        max_date = max(self.holdings.values(), key = lambda x: x[1])[1]\n",
    "        \n",
    "        perf = np.array([self.capital] * len(list(self.daterange(min_date, max_date))))\n",
    "        for i in self.holdings:\n",
    "            perf += i.get_performance(start=min_date, end=max_date)\n",
    "        \n",
    "        plt.title(\"Portfolio Performance\")\n",
    "        plt.plot(list(self.daterange(min_date, max_date)), perf)\n",
    "        plt.xlabel(\"Date\")\n",
    "        plt.ylabel(\"$\")\n",
    "        plt.show()\n",
    "        #some of the logic is wrong, so that if two stocks are seperated, then jumps to 1000 which is not right\n",
    "    \n",
    "    def daterange(self, start_date, end_date):\n",
    "        delta = timedelta(days=1)\n",
    "        while start_date <= end_date:\n",
    "            if (start_date.weekday() >= 5):\n",
    "                start_date += delta\n",
    "                continue\n",
    "            yield start_date\n",
    "            start_date += delta"
   ]
  },
  {
   "cell_type": "code",
   "execution_count": 59,
   "metadata": {},
   "outputs": [
    {
     "name": "stdout",
     "output_type": "stream",
     "text": [
      "{'Adj Close': {'2020-04-23': 275.02999900000003, '2020-04-22': 276.10000600000001, '2020-04-21': 268.36999500000002, '2020-04-20': 276.92999300000002, '2020-04-17': 282.79998799999998, '2020-04-16': 286.69000199999999, '2020-04-15': 284.42999300000002, '2020-04-14': 287.04998799999998, '2020-04-13': 273.25, '2020-04-09': 267.98998999999998, '2020-04-08': 266.07000699999998, '2020-04-07': 259.42999300000002, '2020-04-06': 262.47000099999997, '2020-04-03': 241.41000400000001, '2020-04-02': 244.92999300000002, '2020-04-01': 240.91000400000001, '2020-03-31': 254.28999300000001, '2020-03-30': 254.80999800000001, '2020-03-27': 247.74000499999997, '2020-03-26': 258.44000199999999, '2020-03-25': 245.520004, '2020-03-24': 246.88000499999998, '2020-03-23': 224.36999500000002, '2020-03-20': 229.24000499999997, '2020-03-19': 244.77999900000003, '2020-03-18': 246.66999799999999, '2020-03-17': 252.86000099999998, '2020-03-16': 242.21000699999999, '2020-03-13': 277.97000099999997, '2020-03-12': 248.229996, '2020-03-11': 275.42999300000002, '2020-03-10': 285.33999599999999, '2020-03-09': 266.17001299999998, '2020-03-06': 289.02999900000003, '2020-03-05': 292.92001299999998, '2020-03-04': 302.73998999999998, '2020-03-03': 289.32000699999998, '2020-03-02': 298.80999800000001, '2020-02-28': 273.35998499999999, '2020-02-27': 273.51998900000001, '2020-02-26': 292.64999399999999, '2020-02-25': 288.07998700000002, '2020-02-24': 298.17999300000002, '2020-02-21': 313.04998799999998, '2020-02-20': 320.29998799999998, '2020-02-19': 323.61999500000002, '2020-02-18': 319.0, '2020-02-14': 324.95001200000002, '2020-02-13': 324.86999500000002, '2020-02-12': 327.20001200000002, '2020-02-11': 319.60998499999999, '2020-02-10': 321.54998799999998, '2020-02-07': 320.02999900000003, '2020-02-06': 324.44000199999999, '2020-02-05': 320.68893399999996, '2020-02-04': 318.09506199999998, '2020-02-03': 307.92919900000004, '2020-01-31': 308.77719100000002, '2020-01-30': 323.10318000000001, '2020-01-29': 323.57205199999999, '2020-01-28': 316.93780499999997, '2020-01-27': 308.21850599999999, '2020-01-24': 317.55633499999999, '2020-01-23': 318.47418199999998, '2020-01-22': 316.94781499999999, '2020-01-21': 315.82046500000001, '2020-01-17': 317.97537199999999, '2020-01-16': 314.49359100000004, '2020-01-15': 310.602844, '2020-01-14': 311.93966699999999, '2020-01-13': 316.20953399999996, '2020-01-10': 309.595215, '2020-01-09': 308.89691199999999, '2020-01-08': 302.47213700000003, '2020-01-07': 297.68353300000001, '2020-01-06': 299.090149, '2020-01-03': 296.72576900000001, '2020-01-02': 299.63888500000002, '2019-12-31': 292.95471200000003, '2019-12-30': 290.82977299999999, '2019-12-27': 289.113831, '2019-12-26': 289.22360200000003, '2019-12-24': 283.596924, '2019-12-23': 283.32757599999997, '2019-12-20': 278.77838100000002, '2019-12-19': 279.35699500000004, '2019-12-18': 279.07766700000002, '2019-12-17': 279.74609399999997, '2019-12-16': 279.19735700000001, '2019-12-13': 274.498535, '2019-12-12': 270.81726099999997, '2019-12-11': 270.12890600000003, '2019-12-10': 267.84432999999996, '2019-12-09': 266.288025, '2019-12-06': 270.069031, '2019-12-05': 264.95117200000004, '2019-12-04': 261.12027, '2019-12-03': 258.83572400000003, '2019-12-02': 263.53454599999998, '2019-11-29': 266.61724900000002, '2019-11-27': 267.20584100000002, '2019-11-26': 263.66424599999999, '2019-11-25': 265.73931899999997, '2019-11-22': 261.16018700000001, '2019-11-21': 261.38964800000002, '2019-11-20': 262.56686400000001, '2019-11-19': 265.659515, '2019-11-18': 266.46758999999997, '2019-11-15': 265.13076799999999, '2019-11-14': 262.01815800000003, '2019-11-13': 263.84381099999996, '2019-11-12': 261.33975199999998, '2019-11-11': 261.57919300000003, '2019-11-08': 259.52407799999997, '2019-11-07': 258.81573500000002, '2019-11-06': 255.862762, '2019-11-05': 255.75337200000001, '2019-11-04': 256.12136800000002, '2019-11-01': 254.45037799999997, '2019-10-31': 247.42816200000001, '2019-10-30': 241.95761099999999, '2019-10-29': 241.98744199999999, '2019-10-28': 247.71661400000002, '2019-10-25': 245.25984199999999, '2019-10-24': 242.27589399999999, '2019-10-23': 241.87803599999998, '2019-10-22': 238.67529300000001, '2019-10-21': 239.22233599999998, '2019-10-18': 235.14430200000001, '2019-10-17': 234.02034, '2019-10-16': 233.11520400000001, '2019-10-15': 234.060135, '2019-10-14': 234.60717799999998, '2019-10-11': 234.945358, '2019-10-10': 228.85812400000003, '2019-10-09': 225.814514, '2019-10-08': 223.19859300000002, '2019-10-07': 225.84434500000003, '2019-10-04': 225.79461699999999, '2019-10-03': 219.637756, '2019-10-02': 217.78772000000001, '2019-10-01': 223.387573, '2019-09-30': 222.77088900000001, '2019-09-27': 217.648483, '2019-09-26': 218.712738, '2019-09-25': 219.84663399999999, '2019-09-24': 216.514557, '2019-09-23': 217.54899599999999, '2019-09-20': 216.56428500000001, '2019-09-19': 219.77702299999999, '2019-09-18': 221.57733199999998, '2019-09-17': 219.51840200000001, '2019-09-16': 218.72268700000001, '2019-09-13': 217.57884199999998, '2019-09-12': 221.89559900000003, '2019-09-11': 222.39292900000001, '2019-09-10': 215.53981000000002, '2019-09-09': 213.02336099999999, '2019-09-06': 212.118225, '2019-09-05': 212.13812300000001, '2019-09-04': 208.07003799999998, '2019-09-03': 204.59869399999999, '2019-08-30': 207.62243700000002, '2019-08-29': 207.89097599999999, '2019-08-28': 204.42962600000001, '2019-08-27': 203.066956, '2019-08-26': 205.38447600000001, '2019-08-23': 201.55509900000001, '2019-08-22': 211.32252500000001, '2019-08-21': 211.50155599999999, '2019-08-20': 209.23376499999998, '2019-08-19': 209.223816, '2019-08-16': 205.39442399999999, '2019-08-15': 200.65991200000002, '2019-08-14': 201.66450499999999, '2019-08-13': 207.851212, '2019-08-12': 199.40664699999999, '2019-08-09': 199.91392500000001, '2019-08-08': 201.57498200000001, '2019-08-07': 197.22500600000001, '2019-08-06': 195.20361299999999, '2019-08-05': 191.57698100000002, '2019-08-02': 202.15960699999999, '2019-08-01': 206.52937299999999, '2019-07-31': 211.09736600000002, '2019-07-30': 206.87618999999998, '2019-07-29': 207.76799, '2019-07-26': 205.845688, '2019-07-25': 205.13226299999999, '2019-07-24': 206.767212, '2019-07-23': 206.93563799999998, '2019-07-22': 205.33042900000001, '2019-07-19': 200.74264499999998, '2019-07-18': 203.78465299999999, '2019-07-17': 201.495712, '2019-07-16': 202.635223, '2019-07-15': 203.33876000000001, '2019-07-12': 201.44618199999999, '2019-07-11': 199.91030900000001, '2019-07-10': 201.37681599999999, '2019-07-09': 199.404968, '2019-07-08': 198.19607500000001, '2019-07-05': 202.36767599999999, '2019-07-03': 202.54605100000001, '2019-07-02': 200.88136299999999, '2019-07-01': 199.712143, '2019-06-28': 196.115219, '2019-06-27': 197.91863999999998, '2019-06-26': 197.97808799999999, '2019-06-25': 193.78666699999999, '2019-06-24': 196.76921100000001, '2019-06-21': 196.967377, '2019-06-20': 197.64118999999999, '2019-06-19': 196.06568899999999, '2019-06-18': 196.64039600000001, '2019-06-17': 192.12197900000001, '2019-06-14': 190.98246799999998, '2019-06-13': 192.379593, '2019-06-12': 192.41925000000001, '2019-06-11': 193.03358500000002, '2019-06-10': 190.82392899999999, '2019-06-07': 188.416077, '2019-06-06': 183.531036, '2019-06-05': 180.87545800000001, '2019-06-04': 178.00192300000001, '2019-06-03': 171.71972700000001, '2019-05-31': 173.473602, '2019-05-30': 176.674149, '2019-05-29': 175.76252700000001, '2019-05-28': 176.604782, '2019-05-24': 177.338043, '2019-05-23': 178.02174399999998, '2019-05-22': 181.113281, '2019-05-21': 184.89846799999998, '2019-05-20': 181.42047099999999, '2019-05-17': 187.27658099999999, '2019-05-16': 188.34672499999999, '2019-05-15': 189.17906200000002, '2019-05-14': 186.93966699999999, '2019-05-13': 184.026489, '2019-05-10': 195.38197299999999, '2019-05-09': 198.12670900000001, '2019-05-08': 200.27853400000001, '2019-05-07': 200.23907500000001, '2019-05-06': 205.78646899999998, '2019-05-03': 209.01422099999999, '2019-05-02': 206.4478, '2019-05-01': 207.80011000000002, '2019-04-30': 198.07736200000002, '2019-04-29': 201.96646100000001, '2019-04-26': 201.660461, '2019-04-25': 202.62780800000002, '2019-04-24': 204.48350500000001, '2019-04-23': 204.799362, '2019-04-22': 201.887497, '2019-04-18': 201.22615099999999, '2019-04-17': 200.505585, '2019-04-16': 196.67570499999999, '2019-04-15': 196.65596000000002, '2019-04-12': 196.300613, '2019-04-11': 196.37957800000001, '2019-04-10': 198.027985, '2019-04-09': 196.92247, '2019-04-08': 197.51470900000001, '2019-04-05': 194.454758, '2019-04-04': 193.16168200000001, '2019-04-03': 192.826111, '2019-04-02': 191.51328999999998, '2019-04-01': 188.76921100000001, '2019-03-29': 187.49586499999998, '2019-03-28': 186.28173799999999, '2019-03-27': 186.03497300000001, '2019-03-26': 184.376678, '2019-03-25': 186.30148300000002, '2019-03-22': 188.58165, '2019-03-21': 192.56942699999999, '2019-03-20': 185.72898899999998, '2019-03-19': 184.12005600000001, '2019-03-18': 185.59080500000002, '2019-03-15': 183.71533200000002, '2019-03-14': 181.35621599999999, '2019-03-13': 179.36231999999998, '2019-03-12': 178.57266200000001, '2019-03-11': 176.58860799999999, '2019-03-08': 170.67602500000001, '2019-03-07': 170.27131699999998, '2019-03-06': 172.26522800000001, '2019-03-05': 173.26216100000002, '2019-03-04': 173.578033, '2019-03-01': 172.70938100000001, '2019-02-28': 170.91291799999999, '2019-02-27': 172.61068700000001, '2019-02-26': 172.07766699999999, '2019-02-25': 171.97895800000001, '2019-02-22': 170.735229, '2019-02-21': 168.84993, '2019-02-20': 169.80738799999997, '2019-02-19': 168.721588, '2019-02-15': 168.21820099999999, '2019-02-14': 168.59329199999999, '2019-02-13': 167.98127700000001, '2019-02-12': 168.68211399999998, '2019-02-11': 167.24096699999998, '2019-02-08': 168.20832799999999, '2019-02-07': 168.01091, '2019-02-06': 171.25436399999998, '2019-02-05': 171.19538899999998, '2019-02-04': 168.31558200000001, '2019-02-01': 163.666641, '2019-01-31': 163.587997, '2019-01-30': 162.41841100000002, '2019-01-29': 152.02951000000002, '2019-01-28': 153.62176499999998, '2019-01-25': 155.056747, '2019-01-24': 150.08343500000001, '2019-01-23': 151.28254699999999, '2019-01-22': 150.67317199999999, '2019-01-18': 154.132858, '2019-01-17': 153.189301, '2019-01-16': 152.28507999999999, '2019-01-15': 150.44712799999999, '2019-01-14': 147.42971799999998, '2019-01-11': 149.680466, '2019-01-10': 151.164627, '2019-01-09': 150.68298300000001, '2019-01-08': 148.16686999999999, '2019-01-07': 145.39520300000001, '2019-01-04': 145.71951299999998, '2019-01-03': 139.75353999999999}}\n"
     ]
    },
    {
     "ename": "TypeError",
     "evalue": "'dict_keys' object does not support indexing",
     "output_type": "error",
     "traceback": [
      "\u001b[0;31m---------------------------------------------------------------------------\u001b[0m",
      "\u001b[0;31mTypeError\u001b[0m                                 Traceback (most recent call last)",
      "\u001b[0;32m<ipython-input-59-e5ef9243e17d>\u001b[0m in \u001b[0;36m<module>\u001b[0;34m()\u001b[0m\n\u001b[0;32m----> 1\u001b[0;31m \u001b[0mappl2\u001b[0m \u001b[0;34m=\u001b[0m \u001b[0mStock_Yahoo\u001b[0m\u001b[0;34m(\u001b[0m\u001b[0mticker\u001b[0m\u001b[0;34m=\u001b[0m\u001b[0;34m\"AAPL\"\u001b[0m\u001b[0;34m,\u001b[0m \u001b[0mstart_date\u001b[0m\u001b[0;34m=\u001b[0m\u001b[0mdate\u001b[0m\u001b[0;34m(\u001b[0m\u001b[0;36m2019\u001b[0m\u001b[0;34m,\u001b[0m \u001b[0;36m1\u001b[0m\u001b[0;34m,\u001b[0m \u001b[0;36m3\u001b[0m\u001b[0;34m)\u001b[0m\u001b[0;34m,\u001b[0m \u001b[0mend_date\u001b[0m\u001b[0;34m=\u001b[0m\u001b[0mdate\u001b[0m\u001b[0;34m.\u001b[0m\u001b[0mtoday\u001b[0m\u001b[0;34m(\u001b[0m\u001b[0;34m)\u001b[0m\u001b[0;34m)\u001b[0m\u001b[0;34m\u001b[0m\u001b[0;34m\u001b[0m\u001b[0m\n\u001b[0m\u001b[1;32m      2\u001b[0m \u001b[0mappl2\u001b[0m\u001b[0;34m.\u001b[0m\u001b[0mdisplay_close_price\u001b[0m\u001b[0;34m(\u001b[0m\u001b[0;34m)\u001b[0m\u001b[0;34m\u001b[0m\u001b[0;34m\u001b[0m\u001b[0m\n\u001b[1;32m      3\u001b[0m \u001b[0mappl2\u001b[0m\u001b[0;34m.\u001b[0m\u001b[0mdisplay_df\u001b[0m\u001b[0;34m(\u001b[0m\u001b[0;36m10\u001b[0m\u001b[0;34m)\u001b[0m\u001b[0;34m\u001b[0m\u001b[0;34m\u001b[0m\u001b[0m\n",
      "\u001b[0;32m<ipython-input-57-5d186166692e>\u001b[0m in \u001b[0;36m__init__\u001b[0;34m(self, ticker, start_date, end_date, frequency, page_size)\u001b[0m\n\u001b[1;32m      9\u001b[0m         \u001b[0mself\u001b[0m\u001b[0;34m.\u001b[0m\u001b[0mprices\u001b[0m \u001b[0;34m=\u001b[0m \u001b[0mself\u001b[0m\u001b[0;34m.\u001b[0m\u001b[0mdata\u001b[0m\u001b[0;34m[\u001b[0m\u001b[0;34m[\u001b[0m\u001b[0;34m'Date'\u001b[0m\u001b[0;34m,\u001b[0m \u001b[0;34m'Adj Close'\u001b[0m\u001b[0;34m]\u001b[0m\u001b[0;34m]\u001b[0m\u001b[0;34m.\u001b[0m\u001b[0mset_index\u001b[0m\u001b[0;34m(\u001b[0m\u001b[0;34m'Date'\u001b[0m\u001b[0;34m)\u001b[0m\u001b[0;34m.\u001b[0m\u001b[0mto_dict\u001b[0m\u001b[0;34m(\u001b[0m\u001b[0;34m)\u001b[0m\u001b[0;34m\u001b[0m\u001b[0;34m\u001b[0m\u001b[0m\n\u001b[1;32m     10\u001b[0m         \u001b[0mprint\u001b[0m\u001b[0;34m(\u001b[0m\u001b[0mself\u001b[0m\u001b[0;34m.\u001b[0m\u001b[0mprices\u001b[0m\u001b[0;34m)\u001b[0m\u001b[0;34m\u001b[0m\u001b[0;34m\u001b[0m\u001b[0m\n\u001b[0;32m---> 11\u001b[0;31m         \u001b[0mprint\u001b[0m\u001b[0;34m(\u001b[0m\u001b[0mtype\u001b[0m\u001b[0;34m(\u001b[0m\u001b[0mself\u001b[0m\u001b[0;34m.\u001b[0m\u001b[0mprices\u001b[0m\u001b[0;34m.\u001b[0m\u001b[0mkeys\u001b[0m\u001b[0;34m(\u001b[0m\u001b[0;34m)\u001b[0m\u001b[0;34m[\u001b[0m\u001b[0;36m0\u001b[0m\u001b[0;34m]\u001b[0m\u001b[0;34m)\u001b[0m\u001b[0;34m)\u001b[0m\u001b[0;34m\u001b[0m\u001b[0;34m\u001b[0m\u001b[0m\n\u001b[0m\u001b[1;32m     12\u001b[0m \u001b[0;31m#         self.start_price = self.prices[self.]\u001b[0m\u001b[0;34m\u001b[0m\u001b[0;34m\u001b[0m\u001b[0;34m\u001b[0m\u001b[0m\n\u001b[1;32m     13\u001b[0m \u001b[0;31m#         self.end_price = self.prices[-1]\u001b[0m\u001b[0;34m\u001b[0m\u001b[0;34m\u001b[0m\u001b[0;34m\u001b[0m\u001b[0m\n",
      "\u001b[0;31mTypeError\u001b[0m: 'dict_keys' object does not support indexing"
     ]
    }
   ],
   "source": [
    "appl2 = Stock_Yahoo(ticker=\"AAPL\", start_date=date(2019, 1, 3), end_date=date.today())\n",
    "appl2.display_close_price()\n",
    "appl2.display_df(10)"
   ]
  },
  {
   "cell_type": "code",
   "execution_count": 13,
   "metadata": {
    "scrolled": true
   },
   "outputs": [
    {
     "ename": "TypeError",
     "evalue": "'float' object is not subscriptable",
     "output_type": "error",
     "traceback": [
      "\u001b[0;31m---------------------------------------------------------------------------\u001b[0m",
      "\u001b[0;31mTypeError\u001b[0m                                 Traceback (most recent call last)",
      "\u001b[0;32m<ipython-input-13-60bd0338f6c7>\u001b[0m in \u001b[0;36m<module>\u001b[0;34m()\u001b[0m\n\u001b[1;32m      2\u001b[0m \u001b[0mtestport\u001b[0m\u001b[0;34m.\u001b[0m\u001b[0mbuy\u001b[0m\u001b[0;34m(\u001b[0m\u001b[0;34m'AAPL'\u001b[0m\u001b[0;34m,\u001b[0m \u001b[0mstart\u001b[0m\u001b[0;34m=\u001b[0m\u001b[0mdate\u001b[0m\u001b[0;34m(\u001b[0m\u001b[0;36m2020\u001b[0m\u001b[0;34m,\u001b[0m \u001b[0;36m1\u001b[0m\u001b[0;34m,\u001b[0m \u001b[0;36m3\u001b[0m\u001b[0;34m)\u001b[0m\u001b[0;34m)\u001b[0m\u001b[0;34m\u001b[0m\u001b[0;34m\u001b[0m\u001b[0m\n\u001b[1;32m      3\u001b[0m \u001b[0mtestport\u001b[0m\u001b[0;34m.\u001b[0m\u001b[0mbuy\u001b[0m\u001b[0;34m(\u001b[0m\u001b[0;34m'MSFT'\u001b[0m\u001b[0;34m,\u001b[0m \u001b[0mstart\u001b[0m\u001b[0;34m=\u001b[0m\u001b[0mdate\u001b[0m\u001b[0;34m(\u001b[0m\u001b[0;36m2019\u001b[0m\u001b[0;34m,\u001b[0m \u001b[0;36m4\u001b[0m\u001b[0;34m,\u001b[0m \u001b[0;36m20\u001b[0m\u001b[0;34m)\u001b[0m\u001b[0;34m)\u001b[0m\u001b[0;34m\u001b[0m\u001b[0;34m\u001b[0m\u001b[0m\n\u001b[0;32m----> 4\u001b[0;31m \u001b[0mtestport\u001b[0m\u001b[0;34m.\u001b[0m\u001b[0mdisplay_performance\u001b[0m\u001b[0;34m(\u001b[0m\u001b[0;34m)\u001b[0m\u001b[0;34m\u001b[0m\u001b[0;34m\u001b[0m\u001b[0m\n\u001b[0m",
      "\u001b[0;32m<ipython-input-10-05ce3dc5d58f>\u001b[0m in \u001b[0;36mdisplay_performance\u001b[0;34m(self)\u001b[0m\n\u001b[1;32m     90\u001b[0m         \u001b[0mperf\u001b[0m \u001b[0;34m=\u001b[0m \u001b[0mnp\u001b[0m\u001b[0;34m.\u001b[0m\u001b[0marray\u001b[0m\u001b[0;34m(\u001b[0m\u001b[0;34m[\u001b[0m\u001b[0mself\u001b[0m\u001b[0;34m.\u001b[0m\u001b[0mcapital\u001b[0m\u001b[0;34m]\u001b[0m \u001b[0;34m*\u001b[0m \u001b[0mlen\u001b[0m\u001b[0;34m(\u001b[0m\u001b[0mlist\u001b[0m\u001b[0;34m(\u001b[0m\u001b[0mself\u001b[0m\u001b[0;34m.\u001b[0m\u001b[0mdaterange\u001b[0m\u001b[0;34m(\u001b[0m\u001b[0mmin_date\u001b[0m\u001b[0;34m,\u001b[0m \u001b[0mmax_date\u001b[0m\u001b[0;34m)\u001b[0m\u001b[0;34m)\u001b[0m\u001b[0;34m)\u001b[0m\u001b[0;34m)\u001b[0m\u001b[0;34m\u001b[0m\u001b[0;34m\u001b[0m\u001b[0m\n\u001b[1;32m     91\u001b[0m         \u001b[0;32mfor\u001b[0m \u001b[0mi\u001b[0m \u001b[0;32min\u001b[0m \u001b[0mself\u001b[0m\u001b[0;34m.\u001b[0m\u001b[0mholdings\u001b[0m\u001b[0;34m:\u001b[0m\u001b[0;34m\u001b[0m\u001b[0;34m\u001b[0m\u001b[0m\n\u001b[0;32m---> 92\u001b[0;31m             \u001b[0mperf\u001b[0m \u001b[0;34m+=\u001b[0m \u001b[0mi\u001b[0m\u001b[0;34m.\u001b[0m\u001b[0mget_performance\u001b[0m\u001b[0;34m(\u001b[0m\u001b[0mstart\u001b[0m\u001b[0;34m=\u001b[0m\u001b[0mmin_date\u001b[0m\u001b[0;34m,\u001b[0m \u001b[0mend\u001b[0m\u001b[0;34m=\u001b[0m\u001b[0mmax_date\u001b[0m\u001b[0;34m)\u001b[0m\u001b[0;34m\u001b[0m\u001b[0;34m\u001b[0m\u001b[0m\n\u001b[0m\u001b[1;32m     93\u001b[0m \u001b[0;34m\u001b[0m\u001b[0m\n\u001b[1;32m     94\u001b[0m         \u001b[0mplt\u001b[0m\u001b[0;34m.\u001b[0m\u001b[0mtitle\u001b[0m\u001b[0;34m(\u001b[0m\u001b[0;34m\"Portfolio Performance\"\u001b[0m\u001b[0;34m)\u001b[0m\u001b[0;34m\u001b[0m\u001b[0;34m\u001b[0m\u001b[0m\n",
      "\u001b[0;32m<ipython-input-9-2d6868b51703>\u001b[0m in \u001b[0;36mget_performance\u001b[0;34m(self, start, end)\u001b[0m\n\u001b[1;32m     46\u001b[0m                 \u001b[0mgains\u001b[0m\u001b[0;34m.\u001b[0m\u001b[0mappend\u001b[0m\u001b[0;34m(\u001b[0m\u001b[0;36m0\u001b[0m\u001b[0;34m)\u001b[0m\u001b[0;34m\u001b[0m\u001b[0;34m\u001b[0m\u001b[0m\n\u001b[1;32m     47\u001b[0m             \u001b[0;32melse\u001b[0m\u001b[0;34m:\u001b[0m\u001b[0;34m\u001b[0m\u001b[0;34m\u001b[0m\u001b[0m\n\u001b[0;32m---> 48\u001b[0;31m                 \u001b[0mgains\u001b[0m\u001b[0;34m.\u001b[0m\u001b[0mappend\u001b[0m\u001b[0;34m(\u001b[0m\u001b[0mself\u001b[0m\u001b[0;34m.\u001b[0m\u001b[0mprices\u001b[0m\u001b[0;34m[\u001b[0m\u001b[0mcurr_ind\u001b[0m\u001b[0;34m]\u001b[0m\u001b[0;34m[\u001b[0m\u001b[0;34m'adj_close'\u001b[0m\u001b[0;34m]\u001b[0m \u001b[0;34m-\u001b[0m \u001b[0mself\u001b[0m\u001b[0;34m.\u001b[0m\u001b[0mstart_price\u001b[0m\u001b[0;34m)\u001b[0m\u001b[0;34m\u001b[0m\u001b[0;34m\u001b[0m\u001b[0m\n\u001b[0m\u001b[1;32m     49\u001b[0m                 \u001b[0mcurr_ind\u001b[0m \u001b[0;34m+=\u001b[0m \u001b[0;36m1\u001b[0m\u001b[0;34m\u001b[0m\u001b[0;34m\u001b[0m\u001b[0m\n\u001b[1;32m     50\u001b[0m         \u001b[0;32mreturn\u001b[0m \u001b[0mnp\u001b[0m\u001b[0;34m.\u001b[0m\u001b[0marray\u001b[0m\u001b[0;34m(\u001b[0m\u001b[0mgains\u001b[0m\u001b[0;34m)\u001b[0m\u001b[0;34m\u001b[0m\u001b[0;34m\u001b[0m\u001b[0m\n",
      "\u001b[0;31mTypeError\u001b[0m: 'float' object is not subscriptable"
     ]
    }
   ],
   "source": [
    "testport = Portfolio()\n",
    "testport.buy('AAPL', start=date(2020, 1, 3))\n",
    "testport.buy('MSFT', start=date(2019, 4, 20))\n",
    "testport.display_performance()"
   ]
  },
  {
   "cell_type": "code",
   "execution_count": null,
   "metadata": {
    "collapsed": true
   },
   "outputs": [],
   "source": [
    "# class Stock:\n",
    "#     def __init__(self, ticker, start_date=date.today(), end_date=date.today(), frequency='daily', page_size=100):\n",
    "#         intrinio_sdk.ApiClient().configuration.api_key['api_key'] = 'OmEzMWY4NDEzMzRlOGM3Y2ZjNmY3ZjAwZWRmZWI2MTIy'\n",
    "        \n",
    "#         self.ticker = ticker\n",
    "#         self.start_date = start_date\n",
    "#         self.end_date = end_date\n",
    "#         self.frequency = frequency\n",
    "#         self.security_api = intrinio_sdk.SecurityApi()\n",
    "#         self.api_response = self.security_api.get_security_stock_prices(\n",
    "#             ticker, start_date=start_date, end_date=end_date, \n",
    "#             frequency=frequency, page_size=int((end_date - start_date).days), next_page='')\n",
    "#         self.date_range_iter = self.daterange(start_date, end_date)\n",
    "#         self.prices = self.api_response.stock_prices_dict\n",
    "#         self.start_price = self.api_response.stock_prices_dict[0]['adj_close']\n",
    "#         self.end_price = self.api_response.stock_prices_dict[-1]['adj_close']\n",
    "    \n",
    "#     def display_close_price(self):\n",
    "#         plt.title(self.ticker + \" Stock Price\")\n",
    "#         close_prices = []\n",
    "#         date = []\n",
    "#         #### CHANGED ####\n",
    "#         prices_df = pd.DataFrame(self.prices)\n",
    "#         close_prices = prices_df['adj_close']\n",
    "#         date = prices_df['date']\n",
    "#         #### CHANGED ####\n",
    "#         plt.plot(date, close_prices)\n",
    "#         plt.xlabel(\"Date\")\n",
    "#         plt.ylabel(\"Price\")\n",
    "#         plt.show()\n",
    "# #         #TODO: add start and end date arguments \n",
    "    \n",
    "#     def get_stock_price_dict(self):\n",
    "#         return self.api_response.stock_prices_dict\n",
    "    \n",
    "#     def get_api_response(self):\n",
    "#         return self.api_response\n",
    "    \n",
    "# #     def start_price(self):\n",
    "# #         return self.api_response.stock_prices_dict[0]['close']\n",
    "    \n",
    "# #     def end_price(self):\n",
    "# #         return self.api_response.stock_prices_dict[-1]['close']\n",
    "    \n",
    "#     def get_performance(self, start=None, end=None):\n",
    "#         if (start == None):\n",
    "#             start = self.start_date\n",
    "#         if (end == None):\n",
    "#             end = self.end_date\n",
    "        \n",
    "#         max_ind = len(self.prices)\n",
    "#         curr_ind = 0\n",
    "#         gains = []\n",
    "\n",
    "#         for date in self.daterange(start, end):\n",
    "#             if ((date - self.start_date).total_seconds() < 0):\n",
    "#                 gains.append(0)\n",
    "#             elif ((self.end_date - date).total_seconds() < 0):\n",
    "#                 gains.append(0)\n",
    "#             elif (curr_ind >= max_ind):\n",
    "#                 gains.append(0)\n",
    "#             else:\n",
    "#                 gains.append(self.prices[curr_ind]['adj_close'] - self.start_price)\n",
    "#                 curr_ind += 1\n",
    "#         return np.array(gains)\n",
    "    \n",
    "#     def daterange(self, start_date, end_date):\n",
    "#         delta = timedelta(days=1)\n",
    "#         while start_date <= end_date:\n",
    "#             if (start_date.weekday() >= 5):\n",
    "#                 start_date += delta\n",
    "#                 continue\n",
    "#             yield start_date\n",
    "#             start_date += delta\n",
    "    "
   ]
  }
 ],
 "metadata": {
  "kernelspec": {
   "display_name": "Python 3",
   "language": "python",
   "name": "python3"
  },
  "language_info": {
   "codemirror_mode": {
    "name": "ipython",
    "version": 3
   },
   "file_extension": ".py",
   "mimetype": "text/x-python",
   "name": "python",
   "nbconvert_exporter": "python",
   "pygments_lexer": "ipython3",
   "version": "3.6.9"
  }
 },
 "nbformat": 4,
 "nbformat_minor": 2
}
