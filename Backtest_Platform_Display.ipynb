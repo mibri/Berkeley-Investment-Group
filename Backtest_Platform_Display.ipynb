{
 "cells": [
  {
   "cell_type": "code",
   "execution_count": 1,
   "metadata": {},
   "outputs": [],
   "source": [
    "from __future__ import print_function\n",
    "import time\n",
    "import intrinio_sdk\n",
    "from intrinio_sdk.rest import ApiException\n",
    "from pprint import pprint\n",
    "import datetime as dt\n",
    "from datetime import date\n",
    "from datetime import timedelta\n",
    "import io\n",
    "from collections import Counter\n",
    "import numpy as np\n",
    "from numpy import genfromtxt\n",
    "import matplotlib.pyplot as plt\n",
    "import pandas as pd\n",
    "\n",
    "import requests, lxml\n",
    "from lxml import html\n",
    "\n",
    "from Platform import Stock_Yahoo, Portfolio"
   ]
  },
  {
   "cell_type": "code",
   "execution_count": 2,
   "metadata": {},
   "outputs": [],
   "source": [
    "data = pd.read_csv(\"https://query1.finance.yahoo.com/v7/finance/download/AAPL?period1=1546502400&period2=1587279600&interval=1d&events=history\")"
   ]
  },
  {
   "cell_type": "code",
   "execution_count": 3,
   "metadata": {},
   "outputs": [
    {
     "ename": "NameError",
     "evalue": "name 'dt' is not defined",
     "output_type": "error",
     "traceback": [
      "\u001b[0;31m---------------------------------------------------------------------------\u001b[0m",
      "\u001b[0;31mNameError\u001b[0m                                 Traceback (most recent call last)",
      "\u001b[0;32m<ipython-input-3-c212f39ba7be>\u001b[0m in \u001b[0;36m<module>\u001b[0;34m()\u001b[0m\n\u001b[0;32m----> 1\u001b[0;31m \u001b[0mappl2\u001b[0m \u001b[0;34m=\u001b[0m \u001b[0mStock_Yahoo\u001b[0m\u001b[0;34m(\u001b[0m\u001b[0mticker\u001b[0m\u001b[0;34m=\u001b[0m\u001b[0;34m\"AAPL\"\u001b[0m\u001b[0;34m,\u001b[0m \u001b[0mstart_date\u001b[0m\u001b[0;34m=\u001b[0m\u001b[0mdate\u001b[0m\u001b[0;34m(\u001b[0m\u001b[0;36m2019\u001b[0m\u001b[0;34m,\u001b[0m \u001b[0;36m1\u001b[0m\u001b[0;34m,\u001b[0m \u001b[0;36m3\u001b[0m\u001b[0;34m)\u001b[0m\u001b[0;34m,\u001b[0m \u001b[0mend_date\u001b[0m\u001b[0;34m=\u001b[0m\u001b[0mdate\u001b[0m\u001b[0;34m.\u001b[0m\u001b[0mtoday\u001b[0m\u001b[0;34m(\u001b[0m\u001b[0;34m)\u001b[0m\u001b[0;34m)\u001b[0m\u001b[0;34m\u001b[0m\u001b[0;34m\u001b[0m\u001b[0m\n\u001b[0m\u001b[1;32m      2\u001b[0m \u001b[0mappl2\u001b[0m\u001b[0;34m.\u001b[0m\u001b[0mdisplay_close_price\u001b[0m\u001b[0;34m(\u001b[0m\u001b[0;34m)\u001b[0m\u001b[0;34m\u001b[0m\u001b[0;34m\u001b[0m\u001b[0m\n\u001b[1;32m      3\u001b[0m \u001b[0mappl2\u001b[0m\u001b[0;34m.\u001b[0m\u001b[0mdisplay_df\u001b[0m\u001b[0;34m(\u001b[0m\u001b[0;36m10\u001b[0m\u001b[0;34m)\u001b[0m\u001b[0;34m\u001b[0m\u001b[0;34m\u001b[0m\u001b[0m\n\u001b[1;32m      4\u001b[0m \u001b[0mappl2\u001b[0m\u001b[0;34m.\u001b[0m\u001b[0mget_performance\u001b[0m\u001b[0;34m(\u001b[0m\u001b[0;34m)\u001b[0m\u001b[0;34m\u001b[0m\u001b[0;34m\u001b[0m\u001b[0m\n",
      "\u001b[0;32m~/Berkeley-Investment-Group/Platform.py\u001b[0m in \u001b[0;36m__init__\u001b[0;34m(self, ticker, start_date, end_date, frequency, page_size)\u001b[0m\n\u001b[1;32m     28\u001b[0m         self.prices = dict(\n\u001b[1;32m     29\u001b[0m                         zip(map(lambda x: dt.datetime.strptime(x, '%Y-%m-%d').date(), self.data['Date']),\n\u001b[0;32m---> 30\u001b[0;31m                             self.data['Adj Close'])\n\u001b[0m\u001b[1;32m     31\u001b[0m                         )\n\u001b[1;32m     32\u001b[0m         \u001b[0mself\u001b[0m\u001b[0;34m.\u001b[0m\u001b[0mstart_price\u001b[0m \u001b[0;34m=\u001b[0m \u001b[0mself\u001b[0m\u001b[0;34m.\u001b[0m\u001b[0mprices\u001b[0m\u001b[0;34m[\u001b[0m\u001b[0mself\u001b[0m\u001b[0;34m.\u001b[0m\u001b[0mstart_date\u001b[0m\u001b[0;34m]\u001b[0m\u001b[0;34m\u001b[0m\u001b[0;34m\u001b[0m\u001b[0m\n",
      "\u001b[0;32m~/Berkeley-Investment-Group/Platform.py\u001b[0m in \u001b[0;36m<lambda>\u001b[0;34m(x)\u001b[0m\n\u001b[1;32m     27\u001b[0m         \u001b[0;31m#CHANGED (BRIAN): made self.prices a dict that maps datetime objects to prices\u001b[0m\u001b[0;34m\u001b[0m\u001b[0;34m\u001b[0m\u001b[0;34m\u001b[0m\u001b[0m\n\u001b[1;32m     28\u001b[0m         self.prices = dict(\n\u001b[0;32m---> 29\u001b[0;31m                         zip(map(lambda x: dt.datetime.strptime(x, '%Y-%m-%d').date(), self.data['Date']),\n\u001b[0m\u001b[1;32m     30\u001b[0m                             self.data['Adj Close'])\n\u001b[1;32m     31\u001b[0m                         )\n",
      "\u001b[0;31mNameError\u001b[0m: name 'dt' is not defined"
     ]
    }
   ],
   "source": [
    "appl2 = Stock_Yahoo(ticker=\"AAPL\", start_date=date(2019, 1, 3), end_date=date.today())\n",
    "appl2.display_close_price()\n",
    "appl2.display_df(10)\n",
    "appl2.get_performance()"
   ]
  },
  {
   "cell_type": "code",
   "execution_count": 53,
   "metadata": {
    "scrolled": true
   },
   "outputs": [
    {
     "ename": "KeyError",
     "evalue": "datetime.date(2019, 4, 20)",
     "output_type": "error",
     "traceback": [
      "\u001b[0;31m---------------------------------------------------------------------------\u001b[0m",
      "\u001b[0;31mKeyError\u001b[0m                                  Traceback (most recent call last)",
      "\u001b[0;32m<ipython-input-53-60bd0338f6c7>\u001b[0m in \u001b[0;36m<module>\u001b[0;34m()\u001b[0m\n\u001b[1;32m      1\u001b[0m \u001b[0mtestport\u001b[0m \u001b[0;34m=\u001b[0m \u001b[0mPortfolio\u001b[0m\u001b[0;34m(\u001b[0m\u001b[0;34m)\u001b[0m\u001b[0;34m\u001b[0m\u001b[0;34m\u001b[0m\u001b[0m\n\u001b[1;32m      2\u001b[0m \u001b[0mtestport\u001b[0m\u001b[0;34m.\u001b[0m\u001b[0mbuy\u001b[0m\u001b[0;34m(\u001b[0m\u001b[0;34m'AAPL'\u001b[0m\u001b[0;34m,\u001b[0m \u001b[0mstart\u001b[0m\u001b[0;34m=\u001b[0m\u001b[0mdate\u001b[0m\u001b[0;34m(\u001b[0m\u001b[0;36m2020\u001b[0m\u001b[0;34m,\u001b[0m \u001b[0;36m1\u001b[0m\u001b[0;34m,\u001b[0m \u001b[0;36m3\u001b[0m\u001b[0;34m)\u001b[0m\u001b[0;34m)\u001b[0m\u001b[0;34m\u001b[0m\u001b[0;34m\u001b[0m\u001b[0m\n\u001b[0;32m----> 3\u001b[0;31m \u001b[0mtestport\u001b[0m\u001b[0;34m.\u001b[0m\u001b[0mbuy\u001b[0m\u001b[0;34m(\u001b[0m\u001b[0;34m'MSFT'\u001b[0m\u001b[0;34m,\u001b[0m \u001b[0mstart\u001b[0m\u001b[0;34m=\u001b[0m\u001b[0mdate\u001b[0m\u001b[0;34m(\u001b[0m\u001b[0;36m2019\u001b[0m\u001b[0;34m,\u001b[0m \u001b[0;36m4\u001b[0m\u001b[0;34m,\u001b[0m \u001b[0;36m20\u001b[0m\u001b[0;34m)\u001b[0m\u001b[0;34m)\u001b[0m\u001b[0;34m\u001b[0m\u001b[0;34m\u001b[0m\u001b[0m\n\u001b[0m\u001b[1;32m      4\u001b[0m \u001b[0mtestport\u001b[0m\u001b[0;34m.\u001b[0m\u001b[0mdisplay_performance\u001b[0m\u001b[0;34m(\u001b[0m\u001b[0;34m)\u001b[0m\u001b[0;34m\u001b[0m\u001b[0;34m\u001b[0m\u001b[0m\n",
      "\u001b[0;32m<ipython-input-51-39896b08150a>\u001b[0m in \u001b[0;36mbuy\u001b[0;34m(self, ticker, start, end)\u001b[0m\n\u001b[1;32m    101\u001b[0m \u001b[0;34m\u001b[0m\u001b[0m\n\u001b[1;32m    102\u001b[0m     \u001b[0;32mdef\u001b[0m \u001b[0mbuy\u001b[0m\u001b[0;34m(\u001b[0m\u001b[0mself\u001b[0m\u001b[0;34m,\u001b[0m \u001b[0mticker\u001b[0m\u001b[0;34m=\u001b[0m\u001b[0;34m''\u001b[0m\u001b[0;34m,\u001b[0m \u001b[0mstart\u001b[0m\u001b[0;34m=\u001b[0m\u001b[0mdate\u001b[0m\u001b[0;34m.\u001b[0m\u001b[0mtoday\u001b[0m\u001b[0;34m(\u001b[0m\u001b[0;34m)\u001b[0m\u001b[0;34m,\u001b[0m \u001b[0mend\u001b[0m\u001b[0;34m=\u001b[0m\u001b[0mdate\u001b[0m\u001b[0;34m.\u001b[0m\u001b[0mtoday\u001b[0m\u001b[0;34m(\u001b[0m\u001b[0;34m)\u001b[0m\u001b[0;34m)\u001b[0m\u001b[0;34m:\u001b[0m\u001b[0;34m\u001b[0m\u001b[0;34m\u001b[0m\u001b[0m\n\u001b[0;32m--> 103\u001b[0;31m         \u001b[0mnewStock\u001b[0m \u001b[0;34m=\u001b[0m \u001b[0mStock_Yahoo\u001b[0m\u001b[0;34m(\u001b[0m\u001b[0mticker\u001b[0m\u001b[0;34m,\u001b[0m \u001b[0mstart_date\u001b[0m\u001b[0;34m=\u001b[0m\u001b[0mstart\u001b[0m\u001b[0;34m,\u001b[0m \u001b[0mend_date\u001b[0m\u001b[0;34m=\u001b[0m\u001b[0mend\u001b[0m\u001b[0;34m)\u001b[0m\u001b[0;34m\u001b[0m\u001b[0;34m\u001b[0m\u001b[0m\n\u001b[0m\u001b[1;32m    104\u001b[0m         \u001b[0mself\u001b[0m\u001b[0;34m.\u001b[0m\u001b[0mholdings\u001b[0m\u001b[0;34m[\u001b[0m\u001b[0mnewStock\u001b[0m\u001b[0;34m]\u001b[0m \u001b[0;34m=\u001b[0m \u001b[0;34m(\u001b[0m\u001b[0mstart\u001b[0m\u001b[0;34m,\u001b[0m \u001b[0mend\u001b[0m\u001b[0;34m)\u001b[0m\u001b[0;34m\u001b[0m\u001b[0;34m\u001b[0m\u001b[0m\n\u001b[1;32m    105\u001b[0m \u001b[0;34m\u001b[0m\u001b[0m\n",
      "\u001b[0;32m<ipython-input-51-39896b08150a>\u001b[0m in \u001b[0;36m__init__\u001b[0;34m(self, ticker, start_date, end_date, frequency, page_size)\u001b[0m\n\u001b[1;32m     30\u001b[0m                             self.data['Adj Close'])\n\u001b[1;32m     31\u001b[0m                         )\n\u001b[0;32m---> 32\u001b[0;31m         \u001b[0mself\u001b[0m\u001b[0;34m.\u001b[0m\u001b[0mstart_price\u001b[0m \u001b[0;34m=\u001b[0m \u001b[0mself\u001b[0m\u001b[0;34m.\u001b[0m\u001b[0mprices\u001b[0m\u001b[0;34m[\u001b[0m\u001b[0mself\u001b[0m\u001b[0;34m.\u001b[0m\u001b[0mstart_date\u001b[0m\u001b[0;34m]\u001b[0m\u001b[0;34m\u001b[0m\u001b[0;34m\u001b[0m\u001b[0m\n\u001b[0m\u001b[1;32m     33\u001b[0m \u001b[0;31m#         self.end_price = self.prices[self.end_date]\u001b[0m\u001b[0;34m\u001b[0m\u001b[0;34m\u001b[0m\u001b[0;34m\u001b[0m\u001b[0m\n\u001b[1;32m     34\u001b[0m \u001b[0;34m\u001b[0m\u001b[0m\n",
      "\u001b[0;31mKeyError\u001b[0m: datetime.date(2019, 4, 20)"
     ]
    }
   ],
   "source": [
    "testport = Portfolio()\n",
    "testport.buy('AAPL', start=date(2020, 1, 3))\n",
    "testport.buy('MSFT', start=date(2019, 4, 20))\n",
    "testport.display_performance()"
   ]
  },
  {
   "cell_type": "code",
   "execution_count": null,
   "metadata": {
    "collapsed": true
   },
   "outputs": [],
   "source": [
    "# class Stock:\n",
    "#     def __init__(self, ticker, start_date=date.today(), end_date=date.today(), frequency='daily', page_size=100):\n",
    "#         intrinio_sdk.ApiClient().configuration.api_key['api_key'] = 'OmEzMWY4NDEzMzRlOGM3Y2ZjNmY3ZjAwZWRmZWI2MTIy'\n",
    "        \n",
    "#         self.ticker = ticker\n",
    "#         self.start_date = start_date\n",
    "#         self.end_date = end_date\n",
    "#         self.frequency = frequency\n",
    "#         self.security_api = intrinio_sdk.SecurityApi()\n",
    "#         self.api_response = self.security_api.get_security_stock_prices(\n",
    "#             ticker, start_date=start_date, end_date=end_date, \n",
    "#             frequency=frequency, page_size=int((end_date - start_date).days), next_page='')\n",
    "#         self.date_range_iter = self.daterange(start_date, end_date)\n",
    "#         self.prices = self.api_response.stock_prices_dict\n",
    "#         self.start_price = self.api_response.stock_prices_dict[0]['adj_close']\n",
    "#         self.end_price = self.api_response.stock_prices_dict[-1]['adj_close']\n",
    "    \n",
    "#     def display_close_price(self):\n",
    "#         plt.title(self.ticker + \" Stock Price\")\n",
    "#         close_prices = []\n",
    "#         date = []\n",
    "#         #### CHANGED ####\n",
    "#         prices_df = pd.DataFrame(self.prices)\n",
    "#         close_prices = prices_df['adj_close']\n",
    "#         date = prices_df['date']\n",
    "#         #### CHANGED ####\n",
    "#         plt.plot(date, close_prices)\n",
    "#         plt.xlabel(\"Date\")\n",
    "#         plt.ylabel(\"Price\")\n",
    "#         plt.show()\n",
    "# #         #TODO: add start and end date arguments \n",
    "    \n",
    "#     def get_stock_price_dict(self):\n",
    "#         return self.api_response.stock_prices_dict\n",
    "    \n",
    "#     def get_api_response(self):\n",
    "#         return self.api_response\n",
    "    \n",
    "# #     def start_price(self):\n",
    "# #         return self.api_response.stock_prices_dict[0]['close']\n",
    "    \n",
    "# #     def end_price(self):\n",
    "# #         return self.api_response.stock_prices_dict[-1]['close']\n",
    "    \n",
    "#     def get_performance(self, start=None, end=None):\n",
    "#         if (start == None):\n",
    "#             start = self.start_date\n",
    "#         if (end == None):\n",
    "#             end = self.end_date\n",
    "        \n",
    "#         max_ind = len(self.prices)\n",
    "#         curr_ind = 0\n",
    "#         gains = []\n",
    "\n",
    "#         for date in self.daterange(start, end):\n",
    "#             if ((date - self.start_date).total_seconds() < 0):\n",
    "#                 gains.append(0)\n",
    "#             elif ((self.end_date - date).total_seconds() < 0):\n",
    "#                 gains.append(0)\n",
    "#             elif (curr_ind >= max_ind):\n",
    "#                 gains.append(0)\n",
    "#             else:\n",
    "#                 gains.append(self.prices[curr_ind]['adj_close'] - self.start_price)\n",
    "#                 curr_ind += 1\n",
    "#         return np.array(gains)\n",
    "    \n",
    "#     def daterange(self, start_date, end_date):\n",
    "#         delta = timedelta(days=1)\n",
    "#         while start_date <= end_date:\n",
    "#             if (start_date.weekday() >= 5):\n",
    "#                 start_date += delta\n",
    "#                 continue\n",
    "#             yield start_date\n",
    "#             start_date += delta\n",
    "    "
   ]
  }
 ],
 "metadata": {
  "kernelspec": {
   "display_name": "Python 3",
   "language": "python",
   "name": "python3"
  },
  "language_info": {
   "codemirror_mode": {
    "name": "ipython",
    "version": 3
   },
   "file_extension": ".py",
   "mimetype": "text/x-python",
   "name": "python",
   "nbconvert_exporter": "python",
   "pygments_lexer": "ipython3",
   "version": "3.6.9"
  }
 },
 "nbformat": 4,
 "nbformat_minor": 2
}
